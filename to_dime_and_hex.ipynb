{
 "cells": [
  {
   "cell_type": "markdown",
   "metadata": {
    "id": "84phcMigbzxx"
   },
   "source": [
    "## 先定義轉成二進位的函數"
   ]
  },
  {
   "cell_type": "code",
   "execution_count": 92,
   "metadata": {
    "id": "dTfT4ugSWoJe"
   },
   "outputs": [],
   "source": [
    "def to_binary(n):\n",
    "   binary_list = [0, 0, 0, 0, 0, 0, 0, 0]\n",
    "   if n == 0: # 萬一輸入0 回傳 結束\n",
    "      return binary_list\n",
    "   else:\n",
    "    for i in range(8): #處理剛好是次方的數字\n",
    "      if n == 2**i:\n",
    "        binary_list[7-i] = 1\n",
    "        return binary_list\n",
    "       #如果輸入1-255\n",
    "    exponent = 0\n",
    "    while n > 2**exponent: #一直跟2的次方比大小\n",
    "        exponent += 1\n",
    "            #print('目前次方為', exponent)\n",
    "    exponent -= 1\n",
    "    current_num = n  #留一個變數給剩下多少數\n",
    "    for i in range(exponent, -1, -1): #一個一個比(從2^n到2^0)\n",
    "        binary_list[7 - i] = current_num // (2**i)\n",
    "        current_num = n - (n//(2**i) * 2**i)\n",
    "\n",
    "    return binary_list\n",
    "\n",
    "\n"
   ]
  },
  {
   "cell_type": "code",
   "execution_count": 83,
   "metadata": {
    "colab": {
     "base_uri": "https://localhost:8080/"
    },
    "id": "U4r00uauzh-p",
    "outputId": "cb4982bd-9e9d-4016-b508-99b3c153879e"
   },
   "outputs": [
    {
     "name": "stdout",
     "output_type": "stream",
     "text": [
      "[0, 0, 0, 0, 1, 0, 0, 0]\n"
     ]
    }
   ],
   "source": [
    "print(to_binary(8))"
   ]
  },
  {
   "cell_type": "markdown",
   "metadata": {
    "id": "HFxmIAyLb6Tw"
   },
   "source": [
    "## 再定義從二進位轉成16進位的函數"
   ]
  },
  {
   "cell_type": "code",
   "execution_count": 76,
   "metadata": {
    "id": "4fSkaRTPbi_k"
   },
   "outputs": [],
   "source": [
    "def binary_to_hex(binary_result):\n",
    "  if binary_result == [0, 0, 0, 2, 0, 0, 0, 0]:\n",
    "    return [1, 0]\n",
    "  else:\n",
    "    hex_list = [None, None]\n",
    "    a = 0 #第一位\n",
    "    b = 0 #第二位\n",
    "    for i in range(4):\n",
    "      a += binary_result[i] * (2**(3-i))\n",
    "    for i in range(4, 8):\n",
    "      b += binary_result[i] * (2**(7-i))\n",
    "    if a <10:\n",
    "      hex_list[0] = a\n",
    "    elif a == 10:\n",
    "      hex_list[0] = 'A'\n",
    "    elif a == 11:\n",
    "      hex_list[0] = 'B'\n",
    "    elif a == 12:\n",
    "      hex_list[0] = 'C'\n",
    "    elif a == 13:\n",
    "      hex_list[0] = 'D'\n",
    "    elif a == 14:\n",
    "      hex_list[0] = 'E'\n",
    "    elif a == 15:\n",
    "      hex_list[0] = 'F'\n",
    "    if b <10:\n",
    "      hex_list[1] = b\n",
    "    elif b == 10:\n",
    "      hex_list[1] = 'A'\n",
    "    elif b == 11:\n",
    "      hex_list[1] = 'B'\n",
    "    elif b == 12:\n",
    "      hex_list[1] = 'C'\n",
    "    elif b == 13:\n",
    "      hex_list[1] = 'D'\n",
    "    elif b == 14:\n",
    "      hex_list[1] = 'E'\n",
    "    elif b == 15:\n",
    "      hex_list[1] = 'F'\n",
    "    return(hex_list)\n"
   ]
  },
  {
   "cell_type": "markdown",
   "metadata": {
    "id": "I5rukN1WtUAs"
   },
   "source": [
    "### 自己測試用"
   ]
  },
  {
   "cell_type": "code",
   "execution_count": 84,
   "metadata": {
    "colab": {
     "base_uri": "https://localhost:8080/"
    },
    "id": "4w-e1E9SWtv5",
    "outputId": "6a916ea3-66f3-4668-92e0-ee814923360c"
   },
   "outputs": [
    {
     "name": "stdout",
     "output_type": "stream",
     "text": [
      "[1, 0]\n"
     ]
    }
   ],
   "source": [
    "print(binary_to_hex(to_binary(16)))"
   ]
  },
  {
   "cell_type": "markdown",
   "metadata": {
    "id": "xWbU9WFRtZ5O"
   },
   "source": [
    "### 自己測試用"
   ]
  },
  {
   "cell_type": "code",
   "execution_count": 68,
   "metadata": {
    "colab": {
     "base_uri": "https://localhost:8080/"
    },
    "id": "vk3REZ_FiAHF",
    "outputId": "043df121-6419-44dc-b496-cab014055038"
   },
   "outputs": [
    {
     "name": "stdout",
     "output_type": "stream",
     "text": [
      "[2, 0]\n"
     ]
    }
   ],
   "source": [
    "print(binary_to_hex())"
   ]
  },
  {
   "cell_type": "markdown",
   "metadata": {
    "id": "4fGy3N8ZgffK"
   },
   "source": [
    "## 整個包成一個流程"
   ]
  },
  {
   "cell_type": "code",
   "execution_count": 95,
   "metadata": {
    "colab": {
     "base_uri": "https://localhost:8080/"
    },
    "id": "N1RSrTIugih5",
    "outputId": "a3b056b2-6442-42c6-8b41-db6d5907e246"
   },
   "outputs": [
    {
     "name": "stdout",
     "output_type": "stream",
     "text": [
      "請輸入一個0-255的整數或按q來退出：0\n",
      "這個數字不在0-255的範圍喔 請重新輸入\n",
      "請輸入一個0-255的整數或按q來退出：256\n",
      "這個數字不在0-255的範圍喔 請重新輸入\n",
      "請輸入一個0-255的整數或按q來退出：rtx\n",
      "不可以輸入無效符號喔 請重新輸入\n",
      "請輸入一個0-255的整數或按q來退出：1\n",
      "這個數-- 1 的二進位值為 00000001\n",
      "這個數-- 1 的十六進位值為 01\n",
      "請輸入一個0-255的整數或按q來退出：2\n",
      "這個數-- 2 的二進位值為 00000010\n",
      "這個數-- 2 的十六進位值為 02\n",
      "請輸入一個0-255的整數或按q來退出：4\n",
      "這個數-- 4 的二進位值為 00000100\n",
      "這個數-- 4 的十六進位值為 04\n",
      "請輸入一個0-255的整數或按q來退出：128\n",
      "這個數-- 128 的二進位值為 10000000\n",
      "這個數-- 128 的十六進位值為 80\n",
      "請輸入一個0-255的整數或按q來退出：47\n",
      "這個數-- 47 的二進位值為 00101111\n",
      "這個數-- 47 的十六進位值為 2F\n",
      "請輸入一個0-255的整數或按q來退出：q\n"
     ]
    }
   ],
   "source": [
    "while True:\n",
    "  n = input('請輸入一個0-255的整數或按q來退出：')\n",
    "  if n == 'q':\n",
    "    break\n",
    "  try :\n",
    "    n = int(n)\n",
    "  except ValueError:\n",
    "    print(\"不可以輸入無效符號喔 請重新輸入\")\n",
    "    continue\n",
    "  else:\n",
    "  #輸出二進位的值\n",
    "    if (n >= 1) and (n<= 255):\n",
    "      binary_value = str((to_binary(int(n)))[0])+str((to_binary(int(n)))[1])+str((to_binary(int(n)))[2])+str((to_binary(int(n)))[3])+str((to_binary(int(n)))[4])+ str((to_binary(int(n)))[5])+str((to_binary(int(n)))[6])+str((to_binary(int(n)))[7])\n",
    "\n",
    "      print('這個數--', n, '的二進位值為', binary_value)\n",
    "      hex_value = str(binary_to_hex(to_binary(int(n)))[0]) + str(binary_to_hex(to_binary(int(n)))[1])\n",
    "      print('這個數--', n, '的十六進位值為', hex_value)\n",
    "    else:\n",
    "      print('這個數字不在0-255的範圍喔 請重新輸入')\n",
    "      continue"
   ]
  }
 ],
 "metadata": {
  "colab": {
   "provenance": []
  },
  "kernelspec": {
   "display_name": "Python 3 (ipykernel)",
   "language": "python",
   "name": "python3"
  },
  "language_info": {
   "codemirror_mode": {
    "name": "ipython",
    "version": 3
   },
   "file_extension": ".py",
   "mimetype": "text/x-python",
   "name": "python",
   "nbconvert_exporter": "python",
   "pygments_lexer": "ipython3",
   "version": "3.12.2"
  }
 },
 "nbformat": 4,
 "nbformat_minor": 4
}
